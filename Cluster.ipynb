{
 "cells": [
  {
   "cell_type": "markdown",
   "id": "medical-examination",
   "metadata": {},
   "source": [
    "# WHAT IS THE PURPOSE OF THIS PROJECT?"
   ]
  },
  {
   "cell_type": "markdown",
   "id": "automated-telling",
   "metadata": {},
   "source": [
    "AdventureWorks2019 is a Microsoft sample database that allowed me to write SQL queries and utilize them to develop dashboards with two BI tools: Tableau and PowerBI. Each was used to create a portfolio that could showcase what I had learnt over time. \n",
    "\n",
    "While working on these I always wondered if it was possible to use Machine Learnig to extract inshights from the data that might have some meaning and thus increase the usefulness of the analysis. Over time I have always looked at ML with a certain curiosity trying to learn the basics of it, until I came across a python library that simplifies a lot of steps that lead to write an algorithm, that is able to work and give valid information: the library in question is called Pycaret.\n",
    "\n",
    "The idea I had is to use the data on customers, extracted from the DB through a query, and try to divide them into clusters using an ML algorithm. For this purpose I will use Pycaret."
   ]
  },
  {
   "cell_type": "markdown",
   "id": "corresponding-sunset",
   "metadata": {},
   "source": [
    "### What is Pycaret?"
   ]
  },
  {
   "cell_type": "markdown",
   "id": "comfortable-cylinder",
   "metadata": {},
   "source": [
    "Pycaret is an OpenSource Python library, focused on AutoML. <br>\n",
    "More on: https://pycaret.org/"
   ]
  },
  {
   "cell_type": "markdown",
   "id": "running-savannah",
   "metadata": {},
   "source": [
    "## 1. Importing library and csv file"
   ]
  },
  {
   "cell_type": "code",
   "execution_count": 1,
   "id": "imported-heating",
   "metadata": {},
   "outputs": [],
   "source": [
    "import warnings\n",
    "warnings.filterwarnings('ignore')\n",
    "import pandas as pd\n",
    "import pycaret"
   ]
  },
  {
   "cell_type": "code",
   "execution_count": 2,
   "id": "liquid-elevation",
   "metadata": {},
   "outputs": [],
   "source": [
    "#Adventure Works Customer Data\n",
    "df = pd.read_csv('Customer.csv', sep=';')"
   ]
  },
  {
   "cell_type": "code",
   "execution_count": 3,
   "id": "dietary-andrew",
   "metadata": {},
   "outputs": [],
   "source": [
    "#Backup\n",
    "data=df"
   ]
  },
  {
   "cell_type": "markdown",
   "id": "federal-insulin",
   "metadata": {},
   "source": [
    "## 2. Data Cleaning"
   ]
  },
  {
   "cell_type": "code",
   "execution_count": 4,
   "id": "computational-costs",
   "metadata": {},
   "outputs": [],
   "source": [
    "#Only some features are usefull\n",
    "col=['Age','MaritalStatus','Gender','YearlyIncome','NumberChildrenAtHome','Education','Occupation','HouseOwner','NumberCarsOwned','YearsSinceFirstPurchase','CloseToStore']\n",
    "df = df[col]"
   ]
  },
  {
   "cell_type": "code",
   "execution_count": 5,
   "id": "prostate-castle",
   "metadata": {},
   "outputs": [],
   "source": [
    "#Checking on Datatypes\n",
    "df['YearlyIncome']=df['YearlyIncome'].astype(int)"
   ]
  },
  {
   "cell_type": "markdown",
   "id": "annoying-treasurer",
   "metadata": {},
   "source": [
    "## 3. Machine Learning"
   ]
  },
  {
   "cell_type": "code",
   "execution_count": 6,
   "id": "modified-delay",
   "metadata": {},
   "outputs": [],
   "source": [
    "#Importing clustering libraries\n",
    "from pycaret.clustering import *"
   ]
  },
  {
   "cell_type": "code",
   "execution_count": 7,
   "id": "detected-tunisia",
   "metadata": {},
   "outputs": [
    {
     "data": {
      "text/html": [
       "<style  type=\"text/css\" >\n",
       "#T_f5009_row21_col1{\n",
       "            background-color:  lightgreen;\n",
       "        }</style><table id=\"T_f5009_\" ><thead>    <tr>        <th class=\"blank level0\" ></th>        <th class=\"col_heading level0 col0\" >Description</th>        <th class=\"col_heading level0 col1\" >Value</th>    </tr></thead><tbody>\n",
       "                <tr>\n",
       "                        <th id=\"T_f5009_level0_row0\" class=\"row_heading level0 row0\" >0</th>\n",
       "                        <td id=\"T_f5009_row0_col0\" class=\"data row0 col0\" >session_id</td>\n",
       "                        <td id=\"T_f5009_row0_col1\" class=\"data row0 col1\" >101</td>\n",
       "            </tr>\n",
       "            <tr>\n",
       "                        <th id=\"T_f5009_level0_row1\" class=\"row_heading level0 row1\" >1</th>\n",
       "                        <td id=\"T_f5009_row1_col0\" class=\"data row1 col0\" >Original Data</td>\n",
       "                        <td id=\"T_f5009_row1_col1\" class=\"data row1 col1\" >(18484, 11)</td>\n",
       "            </tr>\n",
       "            <tr>\n",
       "                        <th id=\"T_f5009_level0_row2\" class=\"row_heading level0 row2\" >2</th>\n",
       "                        <td id=\"T_f5009_row2_col0\" class=\"data row2 col0\" >Missing Values</td>\n",
       "                        <td id=\"T_f5009_row2_col1\" class=\"data row2 col1\" >False</td>\n",
       "            </tr>\n",
       "            <tr>\n",
       "                        <th id=\"T_f5009_level0_row3\" class=\"row_heading level0 row3\" >3</th>\n",
       "                        <td id=\"T_f5009_row3_col0\" class=\"data row3 col0\" >Numeric Features</td>\n",
       "                        <td id=\"T_f5009_row3_col1\" class=\"data row3 col1\" >2</td>\n",
       "            </tr>\n",
       "            <tr>\n",
       "                        <th id=\"T_f5009_level0_row4\" class=\"row_heading level0 row4\" >4</th>\n",
       "                        <td id=\"T_f5009_row4_col0\" class=\"data row4 col0\" >Categorical Features</td>\n",
       "                        <td id=\"T_f5009_row4_col1\" class=\"data row4 col1\" >9</td>\n",
       "            </tr>\n",
       "            <tr>\n",
       "                        <th id=\"T_f5009_level0_row5\" class=\"row_heading level0 row5\" >5</th>\n",
       "                        <td id=\"T_f5009_row5_col0\" class=\"data row5 col0\" >Ordinal Features</td>\n",
       "                        <td id=\"T_f5009_row5_col1\" class=\"data row5 col1\" >False</td>\n",
       "            </tr>\n",
       "            <tr>\n",
       "                        <th id=\"T_f5009_level0_row6\" class=\"row_heading level0 row6\" >6</th>\n",
       "                        <td id=\"T_f5009_row6_col0\" class=\"data row6 col0\" >High Cardinality Features</td>\n",
       "                        <td id=\"T_f5009_row6_col1\" class=\"data row6 col1\" >False</td>\n",
       "            </tr>\n",
       "            <tr>\n",
       "                        <th id=\"T_f5009_level0_row7\" class=\"row_heading level0 row7\" >7</th>\n",
       "                        <td id=\"T_f5009_row7_col0\" class=\"data row7 col0\" >High Cardinality Method</td>\n",
       "                        <td id=\"T_f5009_row7_col1\" class=\"data row7 col1\" >None</td>\n",
       "            </tr>\n",
       "            <tr>\n",
       "                        <th id=\"T_f5009_level0_row8\" class=\"row_heading level0 row8\" >8</th>\n",
       "                        <td id=\"T_f5009_row8_col0\" class=\"data row8 col0\" >Transformed Data</td>\n",
       "                        <td id=\"T_f5009_row8_col1\" class=\"data row8 col1\" >(18484, 36)</td>\n",
       "            </tr>\n",
       "            <tr>\n",
       "                        <th id=\"T_f5009_level0_row9\" class=\"row_heading level0 row9\" >9</th>\n",
       "                        <td id=\"T_f5009_row9_col0\" class=\"data row9 col0\" >CPU Jobs</td>\n",
       "                        <td id=\"T_f5009_row9_col1\" class=\"data row9 col1\" >-1</td>\n",
       "            </tr>\n",
       "            <tr>\n",
       "                        <th id=\"T_f5009_level0_row10\" class=\"row_heading level0 row10\" >10</th>\n",
       "                        <td id=\"T_f5009_row10_col0\" class=\"data row10 col0\" >Use GPU</td>\n",
       "                        <td id=\"T_f5009_row10_col1\" class=\"data row10 col1\" >False</td>\n",
       "            </tr>\n",
       "            <tr>\n",
       "                        <th id=\"T_f5009_level0_row11\" class=\"row_heading level0 row11\" >11</th>\n",
       "                        <td id=\"T_f5009_row11_col0\" class=\"data row11 col0\" >Log Experiment</td>\n",
       "                        <td id=\"T_f5009_row11_col1\" class=\"data row11 col1\" >False</td>\n",
       "            </tr>\n",
       "            <tr>\n",
       "                        <th id=\"T_f5009_level0_row12\" class=\"row_heading level0 row12\" >12</th>\n",
       "                        <td id=\"T_f5009_row12_col0\" class=\"data row12 col0\" >Experiment Name</td>\n",
       "                        <td id=\"T_f5009_row12_col1\" class=\"data row12 col1\" >cluster-default-name</td>\n",
       "            </tr>\n",
       "            <tr>\n",
       "                        <th id=\"T_f5009_level0_row13\" class=\"row_heading level0 row13\" >13</th>\n",
       "                        <td id=\"T_f5009_row13_col0\" class=\"data row13 col0\" >USI</td>\n",
       "                        <td id=\"T_f5009_row13_col1\" class=\"data row13 col1\" >7c7b</td>\n",
       "            </tr>\n",
       "            <tr>\n",
       "                        <th id=\"T_f5009_level0_row14\" class=\"row_heading level0 row14\" >14</th>\n",
       "                        <td id=\"T_f5009_row14_col0\" class=\"data row14 col0\" >Imputation Type</td>\n",
       "                        <td id=\"T_f5009_row14_col1\" class=\"data row14 col1\" >simple</td>\n",
       "            </tr>\n",
       "            <tr>\n",
       "                        <th id=\"T_f5009_level0_row15\" class=\"row_heading level0 row15\" >15</th>\n",
       "                        <td id=\"T_f5009_row15_col0\" class=\"data row15 col0\" >Iterative Imputation Iteration</td>\n",
       "                        <td id=\"T_f5009_row15_col1\" class=\"data row15 col1\" >None</td>\n",
       "            </tr>\n",
       "            <tr>\n",
       "                        <th id=\"T_f5009_level0_row16\" class=\"row_heading level0 row16\" >16</th>\n",
       "                        <td id=\"T_f5009_row16_col0\" class=\"data row16 col0\" >Numeric Imputer</td>\n",
       "                        <td id=\"T_f5009_row16_col1\" class=\"data row16 col1\" >mean</td>\n",
       "            </tr>\n",
       "            <tr>\n",
       "                        <th id=\"T_f5009_level0_row17\" class=\"row_heading level0 row17\" >17</th>\n",
       "                        <td id=\"T_f5009_row17_col0\" class=\"data row17 col0\" >Iterative Imputation Numeric Model</td>\n",
       "                        <td id=\"T_f5009_row17_col1\" class=\"data row17 col1\" >None</td>\n",
       "            </tr>\n",
       "            <tr>\n",
       "                        <th id=\"T_f5009_level0_row18\" class=\"row_heading level0 row18\" >18</th>\n",
       "                        <td id=\"T_f5009_row18_col0\" class=\"data row18 col0\" >Categorical Imputer</td>\n",
       "                        <td id=\"T_f5009_row18_col1\" class=\"data row18 col1\" >mode</td>\n",
       "            </tr>\n",
       "            <tr>\n",
       "                        <th id=\"T_f5009_level0_row19\" class=\"row_heading level0 row19\" >19</th>\n",
       "                        <td id=\"T_f5009_row19_col0\" class=\"data row19 col0\" >Iterative Imputation Categorical Model</td>\n",
       "                        <td id=\"T_f5009_row19_col1\" class=\"data row19 col1\" >None</td>\n",
       "            </tr>\n",
       "            <tr>\n",
       "                        <th id=\"T_f5009_level0_row20\" class=\"row_heading level0 row20\" >20</th>\n",
       "                        <td id=\"T_f5009_row20_col0\" class=\"data row20 col0\" >Unknown Categoricals Handling</td>\n",
       "                        <td id=\"T_f5009_row20_col1\" class=\"data row20 col1\" >least_frequent</td>\n",
       "            </tr>\n",
       "            <tr>\n",
       "                        <th id=\"T_f5009_level0_row21\" class=\"row_heading level0 row21\" >21</th>\n",
       "                        <td id=\"T_f5009_row21_col0\" class=\"data row21 col0\" >Normalize</td>\n",
       "                        <td id=\"T_f5009_row21_col1\" class=\"data row21 col1\" >True</td>\n",
       "            </tr>\n",
       "            <tr>\n",
       "                        <th id=\"T_f5009_level0_row22\" class=\"row_heading level0 row22\" >22</th>\n",
       "                        <td id=\"T_f5009_row22_col0\" class=\"data row22 col0\" >Normalize Method</td>\n",
       "                        <td id=\"T_f5009_row22_col1\" class=\"data row22 col1\" >zscore</td>\n",
       "            </tr>\n",
       "            <tr>\n",
       "                        <th id=\"T_f5009_level0_row23\" class=\"row_heading level0 row23\" >23</th>\n",
       "                        <td id=\"T_f5009_row23_col0\" class=\"data row23 col0\" >Transformation</td>\n",
       "                        <td id=\"T_f5009_row23_col1\" class=\"data row23 col1\" >False</td>\n",
       "            </tr>\n",
       "            <tr>\n",
       "                        <th id=\"T_f5009_level0_row24\" class=\"row_heading level0 row24\" >24</th>\n",
       "                        <td id=\"T_f5009_row24_col0\" class=\"data row24 col0\" >Transformation Method</td>\n",
       "                        <td id=\"T_f5009_row24_col1\" class=\"data row24 col1\" >None</td>\n",
       "            </tr>\n",
       "            <tr>\n",
       "                        <th id=\"T_f5009_level0_row25\" class=\"row_heading level0 row25\" >25</th>\n",
       "                        <td id=\"T_f5009_row25_col0\" class=\"data row25 col0\" >PCA</td>\n",
       "                        <td id=\"T_f5009_row25_col1\" class=\"data row25 col1\" >False</td>\n",
       "            </tr>\n",
       "            <tr>\n",
       "                        <th id=\"T_f5009_level0_row26\" class=\"row_heading level0 row26\" >26</th>\n",
       "                        <td id=\"T_f5009_row26_col0\" class=\"data row26 col0\" >PCA Method</td>\n",
       "                        <td id=\"T_f5009_row26_col1\" class=\"data row26 col1\" >None</td>\n",
       "            </tr>\n",
       "            <tr>\n",
       "                        <th id=\"T_f5009_level0_row27\" class=\"row_heading level0 row27\" >27</th>\n",
       "                        <td id=\"T_f5009_row27_col0\" class=\"data row27 col0\" >PCA Components</td>\n",
       "                        <td id=\"T_f5009_row27_col1\" class=\"data row27 col1\" >None</td>\n",
       "            </tr>\n",
       "            <tr>\n",
       "                        <th id=\"T_f5009_level0_row28\" class=\"row_heading level0 row28\" >28</th>\n",
       "                        <td id=\"T_f5009_row28_col0\" class=\"data row28 col0\" >Ignore Low Variance</td>\n",
       "                        <td id=\"T_f5009_row28_col1\" class=\"data row28 col1\" >False</td>\n",
       "            </tr>\n",
       "            <tr>\n",
       "                        <th id=\"T_f5009_level0_row29\" class=\"row_heading level0 row29\" >29</th>\n",
       "                        <td id=\"T_f5009_row29_col0\" class=\"data row29 col0\" >Combine Rare Levels</td>\n",
       "                        <td id=\"T_f5009_row29_col1\" class=\"data row29 col1\" >False</td>\n",
       "            </tr>\n",
       "            <tr>\n",
       "                        <th id=\"T_f5009_level0_row30\" class=\"row_heading level0 row30\" >30</th>\n",
       "                        <td id=\"T_f5009_row30_col0\" class=\"data row30 col0\" >Rare Level Threshold</td>\n",
       "                        <td id=\"T_f5009_row30_col1\" class=\"data row30 col1\" >None</td>\n",
       "            </tr>\n",
       "            <tr>\n",
       "                        <th id=\"T_f5009_level0_row31\" class=\"row_heading level0 row31\" >31</th>\n",
       "                        <td id=\"T_f5009_row31_col0\" class=\"data row31 col0\" >Numeric Binning</td>\n",
       "                        <td id=\"T_f5009_row31_col1\" class=\"data row31 col1\" >False</td>\n",
       "            </tr>\n",
       "            <tr>\n",
       "                        <th id=\"T_f5009_level0_row32\" class=\"row_heading level0 row32\" >32</th>\n",
       "                        <td id=\"T_f5009_row32_col0\" class=\"data row32 col0\" >Remove Outliers</td>\n",
       "                        <td id=\"T_f5009_row32_col1\" class=\"data row32 col1\" >False</td>\n",
       "            </tr>\n",
       "            <tr>\n",
       "                        <th id=\"T_f5009_level0_row33\" class=\"row_heading level0 row33\" >33</th>\n",
       "                        <td id=\"T_f5009_row33_col0\" class=\"data row33 col0\" >Outliers Threshold</td>\n",
       "                        <td id=\"T_f5009_row33_col1\" class=\"data row33 col1\" >None</td>\n",
       "            </tr>\n",
       "            <tr>\n",
       "                        <th id=\"T_f5009_level0_row34\" class=\"row_heading level0 row34\" >34</th>\n",
       "                        <td id=\"T_f5009_row34_col0\" class=\"data row34 col0\" >Remove Multicollinearity</td>\n",
       "                        <td id=\"T_f5009_row34_col1\" class=\"data row34 col1\" >False</td>\n",
       "            </tr>\n",
       "            <tr>\n",
       "                        <th id=\"T_f5009_level0_row35\" class=\"row_heading level0 row35\" >35</th>\n",
       "                        <td id=\"T_f5009_row35_col0\" class=\"data row35 col0\" >Multicollinearity Threshold</td>\n",
       "                        <td id=\"T_f5009_row35_col1\" class=\"data row35 col1\" >None</td>\n",
       "            </tr>\n",
       "            <tr>\n",
       "                        <th id=\"T_f5009_level0_row36\" class=\"row_heading level0 row36\" >36</th>\n",
       "                        <td id=\"T_f5009_row36_col0\" class=\"data row36 col0\" >Remove Perfect Collinearity</td>\n",
       "                        <td id=\"T_f5009_row36_col1\" class=\"data row36 col1\" >False</td>\n",
       "            </tr>\n",
       "            <tr>\n",
       "                        <th id=\"T_f5009_level0_row37\" class=\"row_heading level0 row37\" >37</th>\n",
       "                        <td id=\"T_f5009_row37_col0\" class=\"data row37 col0\" >Clustering</td>\n",
       "                        <td id=\"T_f5009_row37_col1\" class=\"data row37 col1\" >False</td>\n",
       "            </tr>\n",
       "            <tr>\n",
       "                        <th id=\"T_f5009_level0_row38\" class=\"row_heading level0 row38\" >38</th>\n",
       "                        <td id=\"T_f5009_row38_col0\" class=\"data row38 col0\" >Clustering Iteration</td>\n",
       "                        <td id=\"T_f5009_row38_col1\" class=\"data row38 col1\" >None</td>\n",
       "            </tr>\n",
       "            <tr>\n",
       "                        <th id=\"T_f5009_level0_row39\" class=\"row_heading level0 row39\" >39</th>\n",
       "                        <td id=\"T_f5009_row39_col0\" class=\"data row39 col0\" >Polynomial Features</td>\n",
       "                        <td id=\"T_f5009_row39_col1\" class=\"data row39 col1\" >False</td>\n",
       "            </tr>\n",
       "            <tr>\n",
       "                        <th id=\"T_f5009_level0_row40\" class=\"row_heading level0 row40\" >40</th>\n",
       "                        <td id=\"T_f5009_row40_col0\" class=\"data row40 col0\" >Polynomial Degree</td>\n",
       "                        <td id=\"T_f5009_row40_col1\" class=\"data row40 col1\" >None</td>\n",
       "            </tr>\n",
       "            <tr>\n",
       "                        <th id=\"T_f5009_level0_row41\" class=\"row_heading level0 row41\" >41</th>\n",
       "                        <td id=\"T_f5009_row41_col0\" class=\"data row41 col0\" >Trignometry Features</td>\n",
       "                        <td id=\"T_f5009_row41_col1\" class=\"data row41 col1\" >False</td>\n",
       "            </tr>\n",
       "            <tr>\n",
       "                        <th id=\"T_f5009_level0_row42\" class=\"row_heading level0 row42\" >42</th>\n",
       "                        <td id=\"T_f5009_row42_col0\" class=\"data row42 col0\" >Polynomial Threshold</td>\n",
       "                        <td id=\"T_f5009_row42_col1\" class=\"data row42 col1\" >None</td>\n",
       "            </tr>\n",
       "            <tr>\n",
       "                        <th id=\"T_f5009_level0_row43\" class=\"row_heading level0 row43\" >43</th>\n",
       "                        <td id=\"T_f5009_row43_col0\" class=\"data row43 col0\" >Group Features</td>\n",
       "                        <td id=\"T_f5009_row43_col1\" class=\"data row43 col1\" >False</td>\n",
       "            </tr>\n",
       "            <tr>\n",
       "                        <th id=\"T_f5009_level0_row44\" class=\"row_heading level0 row44\" >44</th>\n",
       "                        <td id=\"T_f5009_row44_col0\" class=\"data row44 col0\" >Feature Selection</td>\n",
       "                        <td id=\"T_f5009_row44_col1\" class=\"data row44 col1\" >False</td>\n",
       "            </tr>\n",
       "            <tr>\n",
       "                        <th id=\"T_f5009_level0_row45\" class=\"row_heading level0 row45\" >45</th>\n",
       "                        <td id=\"T_f5009_row45_col0\" class=\"data row45 col0\" >Feature Selection Method</td>\n",
       "                        <td id=\"T_f5009_row45_col1\" class=\"data row45 col1\" >classic</td>\n",
       "            </tr>\n",
       "            <tr>\n",
       "                        <th id=\"T_f5009_level0_row46\" class=\"row_heading level0 row46\" >46</th>\n",
       "                        <td id=\"T_f5009_row46_col0\" class=\"data row46 col0\" >Features Selection Threshold</td>\n",
       "                        <td id=\"T_f5009_row46_col1\" class=\"data row46 col1\" >None</td>\n",
       "            </tr>\n",
       "            <tr>\n",
       "                        <th id=\"T_f5009_level0_row47\" class=\"row_heading level0 row47\" >47</th>\n",
       "                        <td id=\"T_f5009_row47_col0\" class=\"data row47 col0\" >Feature Interaction</td>\n",
       "                        <td id=\"T_f5009_row47_col1\" class=\"data row47 col1\" >False</td>\n",
       "            </tr>\n",
       "            <tr>\n",
       "                        <th id=\"T_f5009_level0_row48\" class=\"row_heading level0 row48\" >48</th>\n",
       "                        <td id=\"T_f5009_row48_col0\" class=\"data row48 col0\" >Feature Ratio</td>\n",
       "                        <td id=\"T_f5009_row48_col1\" class=\"data row48 col1\" >False</td>\n",
       "            </tr>\n",
       "            <tr>\n",
       "                        <th id=\"T_f5009_level0_row49\" class=\"row_heading level0 row49\" >49</th>\n",
       "                        <td id=\"T_f5009_row49_col0\" class=\"data row49 col0\" >Interaction Threshold</td>\n",
       "                        <td id=\"T_f5009_row49_col1\" class=\"data row49 col1\" >None</td>\n",
       "            </tr>\n",
       "    </tbody></table>"
      ],
      "text/plain": [
       "<pandas.io.formats.style.Styler at 0x1d5ce56c5e0>"
      ]
     },
     "metadata": {},
     "output_type": "display_data"
    }
   ],
   "source": [
    "#Some basic settings\n",
    "cluster1 = setup(df, normalize=True, session_id=101)"
   ]
  },
  {
   "cell_type": "markdown",
   "id": "given-mechanism",
   "metadata": {},
   "source": [
    "## 4. Finding the best model"
   ]
  },
  {
   "cell_type": "markdown",
   "id": "vietnamese-agreement",
   "metadata": {},
   "source": [
    "There are several types of clustering algorithms, let's run a few and compare parameters to find the best one."
   ]
  },
  {
   "cell_type": "code",
   "execution_count": 8,
   "id": "cleared-stick",
   "metadata": {},
   "outputs": [
    {
     "data": {
      "text/html": [
       "<div>\n",
       "<style scoped>\n",
       "    .dataframe tbody tr th:only-of-type {\n",
       "        vertical-align: middle;\n",
       "    }\n",
       "\n",
       "    .dataframe tbody tr th {\n",
       "        vertical-align: top;\n",
       "    }\n",
       "\n",
       "    .dataframe thead th {\n",
       "        text-align: right;\n",
       "    }\n",
       "</style>\n",
       "<table border=\"1\" class=\"dataframe\">\n",
       "  <thead>\n",
       "    <tr style=\"text-align: right;\">\n",
       "      <th></th>\n",
       "      <th>Silhouette</th>\n",
       "      <th>Calinski-Harabasz</th>\n",
       "      <th>Davies-Bouldin</th>\n",
       "      <th>Homogeneity</th>\n",
       "      <th>Rand Index</th>\n",
       "      <th>Completeness</th>\n",
       "    </tr>\n",
       "  </thead>\n",
       "  <tbody>\n",
       "    <tr>\n",
       "      <th>0</th>\n",
       "      <td>0.6376</td>\n",
       "      <td>58562.0103</td>\n",
       "      <td>0.4943</td>\n",
       "      <td>0</td>\n",
       "      <td>0</td>\n",
       "      <td>0</td>\n",
       "    </tr>\n",
       "  </tbody>\n",
       "</table>\n",
       "</div>"
      ],
      "text/plain": [
       "   Silhouette  Calinski-Harabasz  Davies-Bouldin  Homogeneity  Rand Index  \\\n",
       "0      0.6376         58562.0103          0.4943            0           0   \n",
       "\n",
       "   Completeness  \n",
       "0             0  "
      ]
     },
     "metadata": {},
     "output_type": "display_data"
    }
   ],
   "source": [
    "kmeans = create_model('kmeans')"
   ]
  },
  {
   "cell_type": "code",
   "execution_count": 9,
   "id": "assured-comedy",
   "metadata": {},
   "outputs": [
    {
     "data": {
      "text/html": [
       "<div>\n",
       "<style scoped>\n",
       "    .dataframe tbody tr th:only-of-type {\n",
       "        vertical-align: middle;\n",
       "    }\n",
       "\n",
       "    .dataframe tbody tr th {\n",
       "        vertical-align: top;\n",
       "    }\n",
       "\n",
       "    .dataframe thead th {\n",
       "        text-align: right;\n",
       "    }\n",
       "</style>\n",
       "<table border=\"1\" class=\"dataframe\">\n",
       "  <thead>\n",
       "    <tr style=\"text-align: right;\">\n",
       "      <th></th>\n",
       "      <th>Silhouette</th>\n",
       "      <th>Calinski-Harabasz</th>\n",
       "      <th>Davies-Bouldin</th>\n",
       "      <th>Homogeneity</th>\n",
       "      <th>Rand Index</th>\n",
       "      <th>Completeness</th>\n",
       "    </tr>\n",
       "  </thead>\n",
       "  <tbody>\n",
       "    <tr>\n",
       "      <th>0</th>\n",
       "      <td>0.6152</td>\n",
       "      <td>50186.2346</td>\n",
       "      <td>0.4704</td>\n",
       "      <td>0</td>\n",
       "      <td>0</td>\n",
       "      <td>0</td>\n",
       "    </tr>\n",
       "  </tbody>\n",
       "</table>\n",
       "</div>"
      ],
      "text/plain": [
       "   Silhouette  Calinski-Harabasz  Davies-Bouldin  Homogeneity  Rand Index  \\\n",
       "0      0.6152         50186.2346          0.4704            0           0   \n",
       "\n",
       "   Completeness  \n",
       "0             0  "
      ]
     },
     "metadata": {},
     "output_type": "display_data"
    }
   ],
   "source": [
    "hclust = create_model('hclust')"
   ]
  },
  {
   "cell_type": "code",
   "execution_count": 10,
   "id": "alleged-telephone",
   "metadata": {},
   "outputs": [
    {
     "data": {
      "text/html": [
       "<div>\n",
       "<style scoped>\n",
       "    .dataframe tbody tr th:only-of-type {\n",
       "        vertical-align: middle;\n",
       "    }\n",
       "\n",
       "    .dataframe tbody tr th {\n",
       "        vertical-align: top;\n",
       "    }\n",
       "\n",
       "    .dataframe thead th {\n",
       "        text-align: right;\n",
       "    }\n",
       "</style>\n",
       "<table border=\"1\" class=\"dataframe\">\n",
       "  <thead>\n",
       "    <tr style=\"text-align: right;\">\n",
       "      <th></th>\n",
       "      <th>Silhouette</th>\n",
       "      <th>Calinski-Harabasz</th>\n",
       "      <th>Davies-Bouldin</th>\n",
       "      <th>Homogeneity</th>\n",
       "      <th>Rand Index</th>\n",
       "      <th>Completeness</th>\n",
       "    </tr>\n",
       "  </thead>\n",
       "  <tbody>\n",
       "    <tr>\n",
       "      <th>0</th>\n",
       "      <td>-0.0196</td>\n",
       "      <td>11.6619</td>\n",
       "      <td>3.0437</td>\n",
       "      <td>0</td>\n",
       "      <td>0</td>\n",
       "      <td>0</td>\n",
       "    </tr>\n",
       "  </tbody>\n",
       "</table>\n",
       "</div>"
      ],
      "text/plain": [
       "   Silhouette  Calinski-Harabasz  Davies-Bouldin  Homogeneity  Rand Index  \\\n",
       "0     -0.0196            11.6619          3.0437            0           0   \n",
       "\n",
       "   Completeness  \n",
       "0             0  "
      ]
     },
     "metadata": {},
     "output_type": "display_data"
    }
   ],
   "source": [
    "dbscan = create_model('dbscan')"
   ]
  },
  {
   "cell_type": "markdown",
   "id": "funny-brake",
   "metadata": {},
   "source": [
    "## 5. Merging cluster data into the original csv file."
   ]
  },
  {
   "cell_type": "markdown",
   "id": "christian-orlando",
   "metadata": {},
   "source": [
    "I chose the model that used the 'kmeans' algorithm. The next step is to save the data into the csv file. Now, we have the original csv file but with a new feature: the cluster related to each customer."
   ]
  },
  {
   "cell_type": "code",
   "execution_count": 11,
   "id": "subsequent-lawsuit",
   "metadata": {},
   "outputs": [],
   "source": [
    "result = assign_model(kmeans)"
   ]
  },
  {
   "cell_type": "code",
   "execution_count": 12,
   "id": "minimal-market",
   "metadata": {},
   "outputs": [],
   "source": [
    "result.drop(['YearlyIncome'], axis=1,inplace=True)"
   ]
  },
  {
   "cell_type": "code",
   "execution_count": 13,
   "id": "urban-calvin",
   "metadata": {},
   "outputs": [],
   "source": [
    "df = data.merge(result)"
   ]
  },
  {
   "cell_type": "code",
   "execution_count": 14,
   "id": "several-newcastle",
   "metadata": {},
   "outputs": [],
   "source": [
    "df.to_csv('Cluster.csv', index=False)"
   ]
  },
  {
   "cell_type": "markdown",
   "id": "thick-cement",
   "metadata": {},
   "source": [
    "## 6. BI Software"
   ]
  },
  {
   "cell_type": "markdown",
   "id": "listed-thirty",
   "metadata": {},
   "source": [
    "Now that I have the csv files related to each table of the database (the same used for the dasboards that can be found on this site) I use Tableau to go and see if actually these clusters have a meaning that can be useful to increase the value of a normal analysis."
   ]
  },
  {
   "cell_type": "markdown",
   "id": "domestic-wright",
   "metadata": {},
   "source": [
    "### 6.1 Final Analysis"
   ]
  },
  {
   "cell_type": "markdown",
   "id": "ethical-cursor",
   "metadata": {},
   "source": [
    "<img src=\"img/Weight.png\" width=\"800px\">"
   ]
  },
  {
   "cell_type": "markdown",
   "id": "developed-catholic",
   "metadata": {},
   "source": [
    "<img src=\"img/Profit.png\" width=\"800px\">"
   ]
  },
  {
   "cell_type": "markdown",
   "id": "illegal-confirmation",
   "metadata": {},
   "source": [
    ">The majority of the customers belong to clusters 3 and 0. Clusters 2 and 1 numerically make up a quarter of the total, but when we go to see how the four groups contribute to the total profits, the share of cluster 2 and 1 togheter, rises to about 33%. Thus, from a strictly profit share perspective, 3 clusters emerge instead of 4."
   ]
  },
  {
   "cell_type": "markdown",
   "id": "removed-impact",
   "metadata": {},
   "source": [
    "<img src=\"img/Education.png\" width=\"800px\">"
   ]
  },
  {
   "cell_type": "markdown",
   "id": "personal-seminar",
   "metadata": {},
   "source": [
    "<img src=\"img/Occupation.png\" width=\"800px\">"
   ]
  },
  {
   "cell_type": "markdown",
   "id": "general-memphis",
   "metadata": {},
   "source": [
    "<img src=\"img/IncomeCategories.png\" width=\"800px\">"
   ]
  },
  {
   "cell_type": "markdown",
   "id": "popular-mitchell",
   "metadata": {},
   "source": [
    ">Cluster 0 is the cluster with lower average incomes, probably related to the fact that here we find the largest number of employees in manual or clerical jobs. In the counterpoint, Clusters 2 and 1 seem to represent a type of clients employed in high income jobs. Finally, Cluster 3 seems to better represent the so-called middle class. <br>\n",
    "Having established a hierarchy in terms of wealth, let's see if they have an effect on their buying habits and how it then reflects on company profits."
   ]
  },
  {
   "cell_type": "markdown",
   "id": "nearby-location",
   "metadata": {},
   "source": [
    "<img src=\"img/OrderQuantity.png\" width=\"378px\"><img src=\"img/SalesProfit.png\" width=\"800px\">"
   ]
  },
  {
   "cell_type": "markdown",
   "id": "controversial-letter",
   "metadata": {},
   "source": [
    "<img src=\"img/ProfitRatio.png\" width=\"800px\">"
   ]
  },
  {
   "cell_type": "markdown",
   "id": "pressed-liberal",
   "metadata": {},
   "source": [
    ">Those in Cluster 0 buy more, much more than those in Cluster 2 or 1, yet despite this they are not the group that accounts for the majority share of profits. They are the majority group tied with Cluster 3, and like them they contribute a third of the total profits, despite buying more products. The \"Profit Ratio\" table helps us: we can consider the percentage value as the average mark-up of the products purchased by the various clusters; it is a simplification that indicates that, on average, those who are part of Cluster 0 could purchase more products with low added value than the others.<br> In the next images we can go and see what the various groups buy the most."
   ]
  },
  {
   "cell_type": "markdown",
   "id": "viral-surrey",
   "metadata": {},
   "source": [
    "![](img/Cluster2.png)\n",
    "![](img/Cluster1.png)\n",
    "![](img/Cluster3.png)\n",
    "![](img/Cluster0.png)"
   ]
  },
  {
   "cell_type": "markdown",
   "id": "atlantic-daisy",
   "metadata": {},
   "source": [
    ">Clusters 2 and 1 are in the \"minority\", yet they account for one-third of profits precisely by the fact that they seem, on average, to buy more expensive products that therefore contribute better to total profits for the company.\n"
   ]
  },
  {
   "cell_type": "markdown",
   "id": "neither-coating",
   "metadata": {},
   "source": [
    "## 7. CONCLUSION"
   ]
  },
  {
   "cell_type": "markdown",
   "id": "rational-cricket",
   "metadata": {},
   "source": [
    "So to answer the initial question: would using an algorithm on the data collected from the database - before start developing a dashboard - actually, be helpful? <br>\n",
    "Well, the graphs seem to tell us that the clusters actually manage to represent something that might be missed by looking at data stored in a common database, and that might be beneficial for a better analysis such that the extra working steps are justified."
   ]
  },
  {
   "cell_type": "code",
   "execution_count": 15,
   "id": "domestic-bryan",
   "metadata": {},
   "outputs": [
    {
     "name": "stderr",
     "output_type": "stream",
     "text": [
      "[NbConvertApp] Converting notebook Cluster.ipynb to html\n",
      "[NbConvertApp] Writing 609779 bytes to Cluster.html\n"
     ]
    }
   ],
   "source": [
    "!jupyter nbconvert --to html Cluster.ipynb"
   ]
  }
 ],
 "metadata": {
  "kernelspec": {
   "display_name": "Python 3",
   "language": "python",
   "name": "python3"
  },
  "language_info": {
   "codemirror_mode": {
    "name": "ipython",
    "version": 3
   },
   "file_extension": ".py",
   "mimetype": "text/x-python",
   "name": "python",
   "nbconvert_exporter": "python",
   "pygments_lexer": "ipython3",
   "version": "3.8.6"
  }
 },
 "nbformat": 4,
 "nbformat_minor": 5
}
